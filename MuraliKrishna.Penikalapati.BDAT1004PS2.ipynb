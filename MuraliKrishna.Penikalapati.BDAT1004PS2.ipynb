{
 "cells": [
  {
   "cell_type": "markdown",
   "id": "a30329d9",
   "metadata": {},
   "source": [
    "# Question 1"
   ]
  },
  {
   "cell_type": "code",
   "execution_count": 1,
   "id": "11df3982",
   "metadata": {},
   "outputs": [
    {
     "data": {
      "text/plain": [
       "6"
      ]
     },
     "execution_count": 1,
     "metadata": {},
     "output_type": "execute_result"
    }
   ],
   "source": [
    "# Consider the following Python module:\n",
    "a = 0\n",
    "def b():\n",
    "    global a #declaring a as global variable for values in function b\n",
    "    a = c(a)  \n",
    "    \n",
    "def c(a):\n",
    "    return a + 2 ## adding 2 to a\n",
    "b() #Running b(), first time the a is assigned as value 2\n",
    "b() #Running b(), second time the a is added with 2 i.e., a + 2 = 2+2 = 4\n",
    "b() #Running b(), third time, added 4 and 2 together, resulting in 6 as the new value of a\n",
    "a   #when we called funtion a the latest value contained in a i.e., 6 will be printed as output"
   ]
  },
  {
   "cell_type": "markdown",
   "id": "d9fbcc85",
   "metadata": {},
   "source": [
    "# Question 2"
   ]
  },
  {
   "cell_type": "code",
   "execution_count": 3,
   "id": "e4f0f428",
   "metadata": {},
   "outputs": [
    {
     "name": "stdout",
     "output_type": "stream",
     "text": [
      "284\n",
      "File idterm.py not found.\n"
     ]
    }
   ],
   "source": [
    "def file_length(file_name):\n",
    "    try:\n",
    "      file = open(file_name)\n",
    "      contents = file.read()\n",
    "      file.close()\n",
    "      print(len(contents))\n",
    "    except:\n",
    "      print('File ' + file_name + ' not found.')\n",
    "\n",
    "file_length('midterm.py')\n",
    "file_length('idterm.py')"
   ]
  },
  {
   "cell_type": "markdown",
   "id": "5dd09f91",
   "metadata": {},
   "source": [
    "# Question 3"
   ]
  },
  {
   "cell_type": "code",
   "execution_count": 4,
   "id": "c5aaffb3",
   "metadata": {},
   "outputs": [
    {
     "data": {
      "text/plain": [
       "['doll', 'firetruck', 'kitten']"
      ]
     },
     "execution_count": 4,
     "metadata": {},
     "output_type": "execute_result"
    }
   ],
   "source": [
    "class Marsupial:\n",
    "    \n",
    "    def __init__(self):  \n",
    "        self.q3 = []\n",
    "        \n",
    "    def put_in_pouch(self,word):\n",
    "        'Adds the word into the list'\n",
    "        self.word = word\n",
    "        self.q3.append(word)\n",
    "        \n",
    "    def pouch_contents(self):\n",
    "        'Returns the list'\n",
    "        return self.q3\n",
    "m = Marsupial()\n",
    "m.put_in_pouch('doll')\n",
    "m.put_in_pouch('firetruck')\n",
    "m.put_in_pouch('kitten')\n",
    "m.pouch_contents()"
   ]
  },
  {
   "cell_type": "code",
   "execution_count": 5,
   "id": "b2652f18",
   "metadata": {},
   "outputs": [],
   "source": [
    "class Kangaroo(Marsupial):\n",
    "    \n",
    "    def __init__(self,xcord,ycord):\n",
    "        'takes, as input, the coordinates x and y of the Kangaroo'\n",
    "        Marsupial.__init__(self)\n",
    "        self.x = xcord\n",
    "        self.y = ycord\n",
    "    \n",
    "    def jump(self,dxcord,dycord):\n",
    "        'takes number values dx and dy as input and moves the kangaroo by dx units along the x-axis and by dy units along the y-axis'\n",
    "        self.x += dxcord\n",
    "        self.y += dycord\n",
    "    \n",
    "    def __str__(self):\n",
    "        return 'I am a Kangaroo located at coordinates ({}, {}).'.format(self.x,self.y)"
   ]
  },
  {
   "cell_type": "code",
   "execution_count": 6,
   "id": "ac618345",
   "metadata": {},
   "outputs": [
    {
     "name": "stdout",
     "output_type": "stream",
     "text": [
      "I am a Kangaroo located at coordinates (0, 0).\n"
     ]
    }
   ],
   "source": [
    "k = Kangaroo(0,0)\n",
    "print(k)"
   ]
  },
  {
   "cell_type": "code",
   "execution_count": 7,
   "id": "b8182903",
   "metadata": {},
   "outputs": [
    {
     "data": {
      "text/plain": [
       "['doll', 'firetruck', 'kitten']"
      ]
     },
     "execution_count": 7,
     "metadata": {},
     "output_type": "execute_result"
    }
   ],
   "source": [
    "k.put_in_pouch('doll')\n",
    "k.put_in_pouch('firetruck')\n",
    "k.put_in_pouch('kitten')\n",
    "k.pouch_contents()"
   ]
  },
  {
   "cell_type": "code",
   "execution_count": 8,
   "id": "f19b5ca2",
   "metadata": {},
   "outputs": [
    {
     "name": "stdout",
     "output_type": "stream",
     "text": [
      "I am a Kangaroo located at coordinates (3, 0).\n"
     ]
    }
   ],
   "source": [
    "k.jump(1,0)\n",
    "k.jump(1,0)\n",
    "k.jump(1,0)\n",
    "print(k)"
   ]
  },
  {
   "cell_type": "markdown",
   "id": "ef1cfec5",
   "metadata": {},
   "source": [
    "# Question 4"
   ]
  },
  {
   "cell_type": "code",
   "execution_count": 9,
   "id": "20d60a89",
   "metadata": {},
   "outputs": [
    {
     "name": "stdout",
     "output_type": "stream",
     "text": [
      "1\n"
     ]
    }
   ],
   "source": [
    "def collatz(x):\n",
    "    if x>0 and type(x)==int:\n",
    "        if x>1:\n",
    "            if x%2 == 0:\n",
    "                print (int(x))\n",
    "                x = x/2\n",
    "            else:\n",
    "                print (int(x))\n",
    "                x = 3*x + 1\n",
    "            collatz(int(x))\n",
    "        \n",
    "        else:\n",
    "            print ('1')\n",
    "    else:\n",
    "        print (\"Error: Enter a positive integer\")\n",
    "collatz(1)"
   ]
  },
  {
   "cell_type": "code",
   "execution_count": 10,
   "id": "27277727",
   "metadata": {},
   "outputs": [
    {
     "name": "stdout",
     "output_type": "stream",
     "text": [
      "10\n",
      "5\n",
      "16\n",
      "8\n",
      "4\n",
      "2\n",
      "1\n"
     ]
    }
   ],
   "source": [
    "collatz(10)"
   ]
  },
  {
   "cell_type": "markdown",
   "id": "393785d2",
   "metadata": {},
   "source": [
    "# Question 5"
   ]
  },
  {
   "cell_type": "code",
   "execution_count": 11,
   "id": "fb0f05bc",
   "metadata": {},
   "outputs": [],
   "source": [
    "def binary(n):\n",
    "    \n",
    "    if n>=0:\n",
    "\n",
    "        if n==0 or n==1:\n",
    "            print (n)\n",
    "   \n",
    "        else:\n",
    "            mod = n%2\n",
    "            print (mod, end=\"\")\n",
    "            n = n//2\n",
    "            binary(n)\n",
    "    else:\n",
    "        print (\"Only non-negative integers accepted\")"
   ]
  },
  {
   "cell_type": "code",
   "execution_count": 12,
   "id": "13af20b9",
   "metadata": {},
   "outputs": [
    {
     "name": "stdout",
     "output_type": "stream",
     "text": [
      "0\n",
      "1\n",
      "11\n"
     ]
    }
   ],
   "source": [
    "binary(0)\n",
    "binary(1)\n",
    "binary(3)"
   ]
  },
  {
   "cell_type": "code",
   "execution_count": 13,
   "id": "898f3462",
   "metadata": {},
   "outputs": [
    {
     "name": "stdout",
     "output_type": "stream",
     "text": [
      "1001\n"
     ]
    }
   ],
   "source": [
    "binary(9)"
   ]
  },
  {
   "cell_type": "markdown",
   "id": "8945102a",
   "metadata": {},
   "source": [
    "# Question 6"
   ]
  },
  {
   "cell_type": "code",
   "execution_count": 14,
   "id": "cacc6f2b",
   "metadata": {},
   "outputs": [],
   "source": [
    "from html.parser import HTMLParser #importing HTMLParser from Html.parser\n",
    "\n",
    "class HeadingParser(HTMLParser): #creating a class\n",
    "    \n",
    "    def __init__(main): #defining main \n",
    "        \n",
    "        HTMLParser.__init__(main )\n",
    "        main.doc_tag = \"\"\n",
    "\n",
    "    def handle_starttag(main, tag, attr): #defing funtion handle_startags that contain main tag and atttribute\n",
    "        main.doc_tag = tag\n",
    "    \n",
    "    \n",
    "    def handle_data(main, data):\n",
    "        if(main.doc_tag=='h1'): #if heading is h1\n",
    "            print(data)\n",
    "            \n",
    "        if(main.doc_tag=='h2'): #if heading is h1\n",
    "            print(\" \"*2,data)  # using (\" \" *level) for indentation\n",
    "            \n",
    "        if(main.doc_tag=='h3'): #if heading is h1\n",
    "            print(\" \"*3,+data)\n",
    "            \n",
    "        if(main.doc_tag=='h4'): #if heading is h1\n",
    "            print(\" \"*4,+data)\n",
    "            \n",
    "        if(main.doc_tag=='h5'):  #if heading is h1          \n",
    "            print(\" \"*6,+data)\n",
    "\n",
    "            \n",
    "        if(main.doc_tag=='h6'):  #if heading is h1\n",
    "            print(\" \"*6,+data)\n",
    "            \n",
    "        main.doc_tag = \"\""
   ]
  },
  {
   "cell_type": "code",
   "execution_count": 15,
   "id": "447428f7",
   "metadata": {},
   "outputs": [
    {
     "name": "stdout",
     "output_type": "stream",
     "text": [
      "W3C Mission\n",
      "   Principles\n"
     ]
    }
   ],
   "source": [
    "infile = open('w3c.html')\n",
    "content = infile.read()\n",
    "hp = HeadingParser()\n",
    "hp.feed(content)"
   ]
  },
  {
   "cell_type": "markdown",
   "id": "26bf492c",
   "metadata": {},
   "source": [
    "# Question 7"
   ]
  },
  {
   "cell_type": "code",
   "execution_count": 16,
   "id": "012157ba",
   "metadata": {},
   "outputs": [
    {
     "name": "stdout",
     "output_type": "stream",
     "text": [
      "http://reed.cs.depaul.edu/lperkovic/test2.html\n",
      "https://reed.cs.depaul.edu/lperkovic/test3.html\n"
     ]
    }
   ],
   "source": [
    "from urllib.request import urlopen\n",
    "from urllib.parse import urljoin\n",
    "from html.parser import HTMLParser\n",
    "class Collector(HTMLParser):\n",
    "    'collects hyperlink URLs into a list'\n",
    "\n",
    "    def __init__(self, url):\n",
    "        'initializes parser, the url, and a list'\n",
    "        HTMLParser.__init__(self)\n",
    "        self.url = url\n",
    "        self.links = []\n",
    "        self.text= \"\"\n",
    "\n",
    "    \n",
    "    def handle_starttag(self, tag, attrs):\n",
    "        'collects hyperlink URLs in their absolute format'\n",
    "        if tag == 'a':\n",
    "            for attr in attrs:\n",
    "                if attr[0] == 'href':\n",
    "                    # construct absolute URL\n",
    "                    absolute = urljoin(self.url, attr[1])\n",
    "                    if absolute[:4] == 'http': # collect HTTP URLs\n",
    "                        self.links.append(absolute)\n",
    "                        \n",
    "    def getLinks(self):\n",
    "        'returns hyperlinks URLs in their absolute format'\n",
    "        return self.links\n",
    "    \n",
    "    def handle_data(self, data):\n",
    "        self.text += data\n",
    "       # print(self.text)\n",
    "    def getData(self):\n",
    "        return self.text\n",
    "    \n",
    "url = 'https://reed.cs.depaul.edu/lperkovic/test1.html'\n",
    "#url = 'http://reed.cs.depaul.edu/lperkovic/csc242/test1.html'\n",
    "resource = urlopen(url)\n",
    "content = resource.read().decode()\n",
    "collector = Collector(url)\n",
    "collector.feed(content)\n",
    "for link in collector.getLinks():\n",
    "    print(link)"
   ]
  },
  {
   "cell_type": "markdown",
   "id": "a3944f98",
   "metadata": {},
   "source": [
    "# Question 8"
   ]
  },
  {
   "cell_type": "code",
   "execution_count": null,
   "id": "f209159b",
   "metadata": {},
   "outputs": [],
   "source": [
    "import sqlite3\n",
    "con = sqlite3.connect('rainfalldataset.db')\n",
    "cur = con.cursor()\n",
    "cur.execute(\"CREATE TABLE annualrain (City, Country, Season, Temperature, Rainfall)\")\n",
    "cur.execute(\"INSERT INTO annualrain VALUES('Mumbai','India','Winter',24.8,5.9)\")\n",
    "cur.execute(\"INSERT INTO annualrain VALUES('Mumbai','India','Spring',28.4,16.2)\")\n",
    "cur.execute(\"INSERT INTO annualrain VALUES('Mumbai','India','Summer',27.9,1549.4)\")\n",
    "cur.execute(\"INSERT INTO annualrain VALUES('Mumbai','India','Fall',27.6,346.0)\")\n",
    "cur.execute(\"INSERT INTO annualrain VALUES('London','United Kingdom','Winter',4.2,207.7)\")\n",
    "cur.execute(\"INSERT INTO annualrain VALUES('London','United Kingdom','Spring',8.3,169.6)\")\n",
    "cur.execute(\"INSERT INTO annualrain VALUES('London','United Kingdom','Summer',15.7,157.0)\")\n",
    "cur.execute(\"INSERT INTO annualrain VALUES('London','United Kingdom','Fall',10.4,218.5)\")\n",
    "cur.execute(\"INSERT INTO annualrain VALUES('Cairo','Egypt','Winter',13.6,16.5)\")\n",
    "cur.execute(\"INSERT INTO annualrain VALUES('Cairo','Egypt','Spring',20.7,6.5)\")\n",
    "cur.execute(\"INSERT INTO annualrain VALUES('Cairo','Egypt','Summer',27.7,0.1)\")\n",
    "cur.execute(\"INSERT INTO annualrain VALUES('Cairo','Egypt','Fall',22.2,4.5)\")\n",
    "con.commit()\n",
    "con.close()"
   ]
  },
  {
   "cell_type": "code",
   "execution_count": 18,
   "id": "fae0a4a2",
   "metadata": {},
   "outputs": [
    {
     "data": {
      "text/plain": [
       "[(24.8,),\n",
       " (28.4,),\n",
       " (27.9,),\n",
       " (27.6,),\n",
       " (4.2,),\n",
       " (8.3,),\n",
       " (15.7,),\n",
       " (10.4,),\n",
       " (13.6,),\n",
       " (20.7,),\n",
       " (27.7,),\n",
       " (22.2,)]"
      ]
     },
     "execution_count": 18,
     "metadata": {},
     "output_type": "execute_result"
    }
   ],
   "source": [
    "# a) All the temperature data.\n",
    "\n",
    "con = sqlite3.connect('rainfalldataset.db')\n",
    "cur = con.cursor()\n",
    "cur.execute('SELECT Temperature from annualrain')\n",
    "cur.fetchall()"
   ]
  },
  {
   "cell_type": "code",
   "execution_count": 19,
   "id": "8750bbde",
   "metadata": {},
   "outputs": [
    {
     "data": {
      "text/plain": [
       "[('Mumbai',), ('London',), ('Cairo',)]"
      ]
     },
     "execution_count": 19,
     "metadata": {},
     "output_type": "execute_result"
    }
   ],
   "source": [
    "# b) All the cities, but without repetition.\n",
    "con = sqlite3.connect('rainfalldataset.db')\n",
    "cur = con.cursor()\n",
    "cur.execute('SELECT distinct(city) from annualrain')\n",
    "cur.fetchall()"
   ]
  },
  {
   "cell_type": "code",
   "execution_count": 20,
   "id": "ae212ab1",
   "metadata": {},
   "outputs": [
    {
     "data": {
      "text/plain": [
       "[('Mumbai', 'India', 'Winter', 24.8, 5.9),\n",
       " ('Mumbai', 'India', 'Spring', 28.4, 16.2),\n",
       " ('Mumbai', 'India', 'Summer', 27.9, 1549.4),\n",
       " ('Mumbai', 'India', 'Fall', 27.6, 346.0)]"
      ]
     },
     "execution_count": 20,
     "metadata": {},
     "output_type": "execute_result"
    }
   ],
   "source": [
    "# c) All the records for India.\n",
    "con = sqlite3.connect('rainfalldataset.db')\n",
    "cur = con.cursor()\n",
    "cur.execute('SELECT * from annualrain where country=\"India\"')\n",
    "cur.fetchall()"
   ]
  },
  {
   "cell_type": "code",
   "execution_count": 21,
   "id": "4e350e3e",
   "metadata": {},
   "outputs": [
    {
     "data": {
      "text/plain": [
       "[('Mumbai', 'India', 'Fall', 27.6, 346.0),\n",
       " ('London', 'United Kingdom', 'Fall', 10.4, 218.5),\n",
       " ('Cairo', 'Egypt', 'Fall', 22.2, 4.5)]"
      ]
     },
     "execution_count": 21,
     "metadata": {},
     "output_type": "execute_result"
    }
   ],
   "source": [
    "# d) All the Fall records.\n",
    "con = sqlite3.connect('rainfalldataset.db')\n",
    "cur = con.cursor()\n",
    "cur.execute('SELECT * from annualrain where season=\"Fall\"')\n",
    "cur.fetchall()"
   ]
  },
  {
   "cell_type": "code",
   "execution_count": 22,
   "id": "37e6af8e",
   "metadata": {},
   "outputs": [
    {
     "data": {
      "text/plain": [
       "[('Mumbai', 'India', 'Fall'),\n",
       " ('London', 'United Kingdom', 'Winter'),\n",
       " ('London', 'United Kingdom', 'Fall')]"
      ]
     },
     "execution_count": 22,
     "metadata": {},
     "output_type": "execute_result"
    }
   ],
   "source": [
    "# e) The city, country, and season for which the average rainfall is between 200 and 400 millimeters.\n",
    "con = sqlite3.connect('rainfalldataset.db')\n",
    "cur = con.cursor()\n",
    "cur.execute('SELECT City , Country, Season from annualrain where rainfall between 200 and 400')\n",
    "cur.fetchall()"
   ]
  },
  {
   "cell_type": "code",
   "execution_count": 23,
   "id": "1e1c4143",
   "metadata": {},
   "outputs": [
    {
     "data": {
      "text/plain": [
       "[('Cairo', 'Egypt'), ('Mumbai', 'India')]"
      ]
     },
     "execution_count": 23,
     "metadata": {},
     "output_type": "execute_result"
    }
   ],
   "source": [
    "# f) The city and country for which the average Fall temperature is above 20 degrees, in increasing temperature order.\n",
    "con = sqlite3.connect('rainfalldataset.db')\n",
    "cur = con.cursor()\n",
    "cur.execute('SELECT City , Country from annualrain where Season=\"Fall\" and temperature>20 order by temperature asc')\n",
    "cur.fetchall()"
   ]
  },
  {
   "cell_type": "code",
   "execution_count": 24,
   "id": "4d495350",
   "metadata": {},
   "outputs": [
    {
     "data": {
      "text/plain": [
       "[(27.6,)]"
      ]
     },
     "execution_count": 24,
     "metadata": {},
     "output_type": "execute_result"
    }
   ],
   "source": [
    "# g) The total annual rainfall for Cairo.\n",
    "con = sqlite3.connect('rainfalldataset.db')\n",
    "cur = con.cursor()\n",
    "cur.execute('SELECT SUM(Rainfall) from annualrain where City=\"Cairo\"')\n",
    "cur.fetchall()"
   ]
  },
  {
   "cell_type": "code",
   "execution_count": 25,
   "id": "aaac5421",
   "metadata": {},
   "outputs": [
    {
     "data": {
      "text/plain": [
       "[('Fall', 569.0),\n",
       " ('Spring', 192.29999999999998),\n",
       " ('Summer', 1706.5),\n",
       " ('Winter', 230.1)]"
      ]
     },
     "execution_count": 25,
     "metadata": {},
     "output_type": "execute_result"
    }
   ],
   "source": [
    "# h) The total rainfall for each season.\n",
    "con = sqlite3.connect('rainfalldataset.db')\n",
    "cur = con.cursor()\n",
    "cur.execute('SELECT Season, SUM(Rainfall) from annualrain Group by season')\n",
    "cur.fetchall()"
   ]
  },
  {
   "cell_type": "markdown",
   "id": "7c2df3fa",
   "metadata": {},
   "source": [
    "# Question 9"
   ]
  },
  {
   "cell_type": "code",
   "execution_count": 6,
   "id": "2f0b08e1",
   "metadata": {},
   "outputs": [
    {
     "name": "stdout",
     "output_type": "stream",
     "text": [
      "['THE', 'QUICK', 'BROWN', 'FOX', 'JUMPS', 'OVER', 'THE', 'LAZY', 'DOG']\n",
      "['the', 'quick', 'brown', 'fox', 'jumps', 'over', 'the', 'lazy', 'dog']\n",
      "[3, 5, 5, 3, 5, 4, 3, 4, 3]\n",
      "[['THE', 'the', 3], ['QUICK', 'quick', 5], ['BROWN', 'brown', 5], ['FOX', 'fox', 3], ['JUMPS', 'jumps', 5], ['OVER', 'over', 4], ['THE', 'the', 3], ['LAZY', 'lazy', 4], ['DOG', 'dog', 3]]\n",
      "['The', 'quick', 'brown', 'fox', 'jumps', 'over', 'the', 'lazy', 'dog']\n"
     ]
    }
   ],
   "source": [
    "words = ['The', 'quick', 'brown', 'fox', 'jumps', 'over', 'the', 'lazy', 'dog']\n",
    "print([x.upper() for x in words]) \n",
    "print([x.lower() for x in words])\n",
    "print([len(x) for x in words])\n",
    "print([[x.upper(), x.lower(), len(x)]for x in words])\n",
    "print([x for x in words if len(x) >= 3])"
   ]
  }
 ],
 "metadata": {
  "kernelspec": {
   "display_name": "Python 3 (ipykernel)",
   "language": "python",
   "name": "python3"
  },
  "language_info": {
   "codemirror_mode": {
    "name": "ipython",
    "version": 3
   },
   "file_extension": ".py",
   "mimetype": "text/x-python",
   "name": "python",
   "nbconvert_exporter": "python",
   "pygments_lexer": "ipython3",
   "version": "3.9.12"
  }
 },
 "nbformat": 4,
 "nbformat_minor": 5
}
